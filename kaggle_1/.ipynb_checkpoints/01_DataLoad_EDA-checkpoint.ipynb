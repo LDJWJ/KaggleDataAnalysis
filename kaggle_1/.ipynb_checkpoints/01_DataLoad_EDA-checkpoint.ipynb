{
 "cells": [
  {
   "cell_type": "markdown",
   "metadata": {},
   "source": [
    "### 캐글 데이터 분석 \n",
    " * 대회 URL : https://www.kaggle.com/c/learnplatform-covid19-impact-on-digital-learning/overview\n",
    " * 평가 : https://www.kaggle.com/c/learnplatform-covid19-impact-on-digital-learning/overview/evaluation\n",
    "   * 명확성(Clarity)(5점) \n",
    "   * 정확도(5점)\n",
    "   * 창의성(5점)\n",
    "   \n",
    " * Timeline : \n",
    "    * 2021/09/30 : 마지막 제출\n",
    "    * 2021/10/28 : 수상자 발표\n",
    "    "
   ]
  },
  {
   "cell_type": "markdown",
   "metadata": {},
   "source": [
    "* 참고 노트북 : https://www.kaggle.com/iamleonie/gentle-introduction-to-the-dataset"
   ]
  },
  {
   "cell_type": "code",
   "execution_count": 3,
   "metadata": {},
   "outputs": [],
   "source": [
    "import os\n",
    "import pandas as pd\n",
    "import matplotlib.pyplot as plt\n",
    "import seaborn as sns\n",
    "\n",
    "import re\n",
    "import plotly.express as px\n",
    "import plotly.graph_objects as go\n",
    "from plotly.subplots import make_subplots"
   ]
  },
  {
   "cell_type": "markdown",
   "metadata": {},
   "source": [
    "### 데이터 불러오기"
   ]
  },
  {
   "cell_type": "code",
   "execution_count": 9,
   "metadata": {},
   "outputs": [
    {
     "name": "stdout",
     "output_type": "stream",
     "text": [
      "C:\\Users\\toto\\Documents\\Github\\KaggleDataAnalysis\\kaggle_1\n"
     ]
    }
   ],
   "source": [
    "path = os.getcwd()\n",
    "print(path)"
   ]
  },
  {
   "cell_type": "code",
   "execution_count": 8,
   "metadata": {},
   "outputs": [
    {
     "data": {
      "text/plain": [
       "((233, 7), (372, 6))"
      ]
     },
     "execution_count": 8,
     "metadata": {},
     "output_type": "execute_result"
    }
   ],
   "source": [
    "districts_info = pd.read_csv(\"../../data/learnplatform-covid19-impact/districts_info.csv\")\n",
    "products_info = pd.read_csv(\"../../data/learnplatform-covid19-impact/products_info.csv\")\n",
    "\n",
    "districts_info.shape, products_info.shape"
   ]
  },
  {
   "cell_type": "markdown",
   "metadata": {},
   "source": [
    "* districts_info : 각 학군에 대한 정보\n",
    "* products_info : 디지털 학습에 사용되는 상위 370개 도구에 대한 정보 포함."
   ]
  },
  {
   "cell_type": "code",
   "execution_count": 12,
   "metadata": {},
   "outputs": [
    {
     "data": {
      "text/plain": [
       "['1000.csv',\n",
       " '1039.csv',\n",
       " '1044.csv',\n",
       " '1052.csv',\n",
       " '1131.csv',\n",
       " '1142.csv',\n",
       " '1179.csv',\n",
       " '1204.csv',\n",
       " '1270.csv',\n",
       " '1324.csv',\n",
       " '1444.csv',\n",
       " '1450.csv',\n",
       " '1470.csv',\n",
       " '1536.csv',\n",
       " '1549.csv',\n",
       " '1558.csv',\n",
       " '1570.csv',\n",
       " '1584.csv',\n",
       " '1624.csv',\n",
       " '1705.csv',\n",
       " '1712.csv',\n",
       " '1742.csv',\n",
       " '1772.csv',\n",
       " '1791.csv',\n",
       " '1857.csv',\n",
       " '1877.csv',\n",
       " '1904.csv',\n",
       " '1965.csv',\n",
       " '2017.csv',\n",
       " '2060.csv',\n",
       " '2074.csv',\n",
       " '2106.csv',\n",
       " '2130.csv',\n",
       " '2165.csv',\n",
       " '2167.csv',\n",
       " '2172.csv',\n",
       " '2201.csv',\n",
       " '2209.csv',\n",
       " '2238.csv',\n",
       " '2257.csv',\n",
       " '2285.csv',\n",
       " '2321.csv',\n",
       " '2339.csv',\n",
       " '2393.csv',\n",
       " '2439.csv',\n",
       " '2441.csv',\n",
       " '2517.csv',\n",
       " '2549.csv',\n",
       " '2567.csv',\n",
       " '2598.csv',\n",
       " '2601.csv',\n",
       " '2685.csv',\n",
       " '2729.csv',\n",
       " '2779.csv',\n",
       " '2870.csv',\n",
       " '2872.csv',\n",
       " '2940.csv',\n",
       " '2956.csv',\n",
       " '2991.csv',\n",
       " '3080.csv',\n",
       " '3160.csv',\n",
       " '3188.csv',\n",
       " '3222.csv',\n",
       " '3228.csv',\n",
       " '3248.csv',\n",
       " '3266.csv',\n",
       " '3301.csv',\n",
       " '3314.csv',\n",
       " '3322.csv',\n",
       " '3371.csv',\n",
       " '3390.csv',\n",
       " '3393.csv',\n",
       " '3412.csv',\n",
       " '3471.csv',\n",
       " '3550.csv',\n",
       " '3558.csv',\n",
       " '3580.csv',\n",
       " '3640.csv',\n",
       " '3668.csv',\n",
       " '3670.csv',\n",
       " '3692.csv',\n",
       " '3710.csv',\n",
       " '3732.csv',\n",
       " '3772.csv',\n",
       " '3864.csv',\n",
       " '3936.csv',\n",
       " '3959.csv',\n",
       " '3986.csv',\n",
       " '4029.csv',\n",
       " '4031.csv',\n",
       " '4051.csv',\n",
       " '4083.csv',\n",
       " '4165.csv',\n",
       " '4183.csv',\n",
       " '4203.csv',\n",
       " '4314.csv',\n",
       " '4348.csv',\n",
       " '4373.csv',\n",
       " '4408.csv',\n",
       " '4516.csv',\n",
       " '4520.csv',\n",
       " '4550.csv',\n",
       " '4569.csv',\n",
       " '4591.csv',\n",
       " '4602.csv',\n",
       " '4629.csv',\n",
       " '4666.csv',\n",
       " '4668.csv',\n",
       " '4683.csv',\n",
       " '4744.csv',\n",
       " '4749.csv',\n",
       " '4775.csv',\n",
       " '4808.csv',\n",
       " '4921.csv',\n",
       " '4929.csv',\n",
       " '4936.csv',\n",
       " '4937.csv',\n",
       " '4949.csv',\n",
       " '5006.csv',\n",
       " '5042.csv',\n",
       " '5057.csv',\n",
       " '5150.csv',\n",
       " '5231.csv',\n",
       " '5257.csv',\n",
       " '5380.csv',\n",
       " '5404.csv',\n",
       " '5422.csv',\n",
       " '5479.csv',\n",
       " '5510.csv',\n",
       " '5524.csv',\n",
       " '5527.csv',\n",
       " '5600.csv',\n",
       " '5604.csv',\n",
       " '5627.csv',\n",
       " '5802.csv',\n",
       " '5882.csv',\n",
       " '5890.csv',\n",
       " '5903.csv',\n",
       " '5934.csv',\n",
       " '5970.csv',\n",
       " '5987.csv',\n",
       " '6046.csv',\n",
       " '6049.csv',\n",
       " '6055.csv',\n",
       " '6066.csv',\n",
       " '6104.csv',\n",
       " '6131.csv',\n",
       " '6144.csv',\n",
       " '6165.csv',\n",
       " '6194.csv',\n",
       " '6250.csv',\n",
       " '6345.csv',\n",
       " '6418.csv',\n",
       " '6512.csv',\n",
       " '6577.csv',\n",
       " '6584.csv',\n",
       " '6640.csv',\n",
       " '6665.csv',\n",
       " '6721.csv',\n",
       " '6762.csv',\n",
       " '6774.csv',\n",
       " '6919.csv',\n",
       " '6998.csv',\n",
       " '7086.csv',\n",
       " '7164.csv',\n",
       " '7177.csv',\n",
       " '7305.csv',\n",
       " '7308.csv',\n",
       " '7342.csv',\n",
       " '7352.csv',\n",
       " '7387.csv',\n",
       " '7457.csv',\n",
       " '7541.csv',\n",
       " '7614.csv',\n",
       " '7660.csv',\n",
       " '7675.csv',\n",
       " '7723.csv',\n",
       " '7741.csv',\n",
       " '7752.csv',\n",
       " '7767.csv',\n",
       " '7785.csv',\n",
       " '7798.csv',\n",
       " '7829.csv',\n",
       " '7858.csv',\n",
       " '7964.csv',\n",
       " '7970.csv',\n",
       " '7975.csv',\n",
       " '7980.csv',\n",
       " '8017.csv',\n",
       " '8076.csv',\n",
       " '8103.csv',\n",
       " '8127.csv',\n",
       " '8160.csv',\n",
       " '8184.csv',\n",
       " '8256.csv',\n",
       " '8328.csv',\n",
       " '8425.csv',\n",
       " '8433.csv',\n",
       " '8515.csv',\n",
       " '8520.csv',\n",
       " '8539.csv',\n",
       " '8556.csv',\n",
       " '8685.csv',\n",
       " '8702.csv',\n",
       " '8723.csv',\n",
       " '8748.csv',\n",
       " '8784.csv',\n",
       " '8796.csv',\n",
       " '8815.csv',\n",
       " '8845.csv',\n",
       " '8884.csv',\n",
       " '8902.csv',\n",
       " '8937.csv',\n",
       " '9007.csv',\n",
       " '9043.csv',\n",
       " '9120.csv',\n",
       " '9140.csv',\n",
       " '9230.csv',\n",
       " '9303.csv',\n",
       " '9357.csv',\n",
       " '9463.csv',\n",
       " '9478.csv',\n",
       " '9515.csv',\n",
       " '9536.csv',\n",
       " '9537.csv',\n",
       " '9553.csv',\n",
       " '9589.csv',\n",
       " '9729.csv',\n",
       " '9778.csv',\n",
       " '9812.csv',\n",
       " '9839.csv',\n",
       " '9899.csv',\n",
       " '9927.csv']"
      ]
     },
     "execution_count": 12,
     "metadata": {},
     "output_type": "execute_result"
    }
   ],
   "source": [
    "# engagement_data 폴더의 파일 확인\n",
    "os.listdir(\"../../data/learnplatform-covid19-impact/engagement_data\")"
   ]
  },
  {
   "cell_type": "markdown",
   "metadata": {},
   "source": [
    "### 학군 정보"
   ]
  },
  {
   "cell_type": "code",
   "execution_count": 15,
   "metadata": {},
   "outputs": [
    {
     "data": {
      "text/html": [
       "<div>\n",
       "<style scoped>\n",
       "    .dataframe tbody tr th:only-of-type {\n",
       "        vertical-align: middle;\n",
       "    }\n",
       "\n",
       "    .dataframe tbody tr th {\n",
       "        vertical-align: top;\n",
       "    }\n",
       "\n",
       "    .dataframe thead th {\n",
       "        text-align: right;\n",
       "    }\n",
       "</style>\n",
       "<table border=\"1\" class=\"dataframe\">\n",
       "  <thead>\n",
       "    <tr style=\"text-align: right;\">\n",
       "      <th></th>\n",
       "      <th>district_id</th>\n",
       "      <th>state</th>\n",
       "      <th>locale</th>\n",
       "      <th>pct_black/hispanic</th>\n",
       "      <th>pct_free/reduced</th>\n",
       "      <th>county_connections_ratio</th>\n",
       "      <th>pp_total_raw</th>\n",
       "    </tr>\n",
       "  </thead>\n",
       "  <tbody>\n",
       "    <tr>\n",
       "      <th>0</th>\n",
       "      <td>8815</td>\n",
       "      <td>Illinois</td>\n",
       "      <td>Suburb</td>\n",
       "      <td>[0, 0.2[</td>\n",
       "      <td>[0, 0.2[</td>\n",
       "      <td>[0.18, 1[</td>\n",
       "      <td>[14000, 16000[</td>\n",
       "    </tr>\n",
       "    <tr>\n",
       "      <th>1</th>\n",
       "      <td>2685</td>\n",
       "      <td>NaN</td>\n",
       "      <td>NaN</td>\n",
       "      <td>NaN</td>\n",
       "      <td>NaN</td>\n",
       "      <td>NaN</td>\n",
       "      <td>NaN</td>\n",
       "    </tr>\n",
       "    <tr>\n",
       "      <th>2</th>\n",
       "      <td>4921</td>\n",
       "      <td>Utah</td>\n",
       "      <td>Suburb</td>\n",
       "      <td>[0, 0.2[</td>\n",
       "      <td>[0.2, 0.4[</td>\n",
       "      <td>[0.18, 1[</td>\n",
       "      <td>[6000, 8000[</td>\n",
       "    </tr>\n",
       "    <tr>\n",
       "      <th>3</th>\n",
       "      <td>3188</td>\n",
       "      <td>NaN</td>\n",
       "      <td>NaN</td>\n",
       "      <td>NaN</td>\n",
       "      <td>NaN</td>\n",
       "      <td>NaN</td>\n",
       "      <td>NaN</td>\n",
       "    </tr>\n",
       "    <tr>\n",
       "      <th>4</th>\n",
       "      <td>2238</td>\n",
       "      <td>NaN</td>\n",
       "      <td>NaN</td>\n",
       "      <td>NaN</td>\n",
       "      <td>NaN</td>\n",
       "      <td>NaN</td>\n",
       "      <td>NaN</td>\n",
       "    </tr>\n",
       "  </tbody>\n",
       "</table>\n",
       "</div>"
      ],
      "text/plain": [
       "   district_id     state  locale pct_black/hispanic pct_free/reduced  \\\n",
       "0         8815  Illinois  Suburb           [0, 0.2[         [0, 0.2[   \n",
       "1         2685       NaN     NaN                NaN              NaN   \n",
       "2         4921      Utah  Suburb           [0, 0.2[       [0.2, 0.4[   \n",
       "3         3188       NaN     NaN                NaN              NaN   \n",
       "4         2238       NaN     NaN                NaN              NaN   \n",
       "\n",
       "  county_connections_ratio    pp_total_raw  \n",
       "0                [0.18, 1[  [14000, 16000[  \n",
       "1                      NaN             NaN  \n",
       "2                [0.18, 1[    [6000, 8000[  \n",
       "3                      NaN             NaN  \n",
       "4                      NaN             NaN  "
      ]
     },
     "execution_count": 15,
     "metadata": {},
     "output_type": "execute_result"
    }
   ],
   "source": [
    "districts_info.head()"
   ]
  },
  {
   "cell_type": "markdown",
   "metadata": {},
   "source": [
    "### 370개의 학습 도구"
   ]
  },
  {
   "cell_type": "code",
   "execution_count": 14,
   "metadata": {},
   "outputs": [
    {
     "data": {
      "text/html": [
       "<div>\n",
       "<style scoped>\n",
       "    .dataframe tbody tr th:only-of-type {\n",
       "        vertical-align: middle;\n",
       "    }\n",
       "\n",
       "    .dataframe tbody tr th {\n",
       "        vertical-align: top;\n",
       "    }\n",
       "\n",
       "    .dataframe thead th {\n",
       "        text-align: right;\n",
       "    }\n",
       "</style>\n",
       "<table border=\"1\" class=\"dataframe\">\n",
       "  <thead>\n",
       "    <tr style=\"text-align: right;\">\n",
       "      <th></th>\n",
       "      <th>LP ID</th>\n",
       "      <th>URL</th>\n",
       "      <th>Product Name</th>\n",
       "      <th>Provider/Company Name</th>\n",
       "      <th>Sector(s)</th>\n",
       "      <th>Primary Essential Function</th>\n",
       "    </tr>\n",
       "  </thead>\n",
       "  <tbody>\n",
       "    <tr>\n",
       "      <th>0</th>\n",
       "      <td>13117</td>\n",
       "      <td>https://www.splashmath.com</td>\n",
       "      <td>SplashLearn</td>\n",
       "      <td>StudyPad Inc.</td>\n",
       "      <td>PreK-12</td>\n",
       "      <td>LC - Digital Learning Platforms</td>\n",
       "    </tr>\n",
       "    <tr>\n",
       "      <th>1</th>\n",
       "      <td>66933</td>\n",
       "      <td>https://abcmouse.com</td>\n",
       "      <td>ABCmouse.com</td>\n",
       "      <td>Age of Learning, Inc</td>\n",
       "      <td>PreK-12</td>\n",
       "      <td>LC - Digital Learning Platforms</td>\n",
       "    </tr>\n",
       "    <tr>\n",
       "      <th>2</th>\n",
       "      <td>50479</td>\n",
       "      <td>https://www.abcya.com</td>\n",
       "      <td>ABCya!</td>\n",
       "      <td>ABCya.com, LLC</td>\n",
       "      <td>PreK-12</td>\n",
       "      <td>LC - Sites, Resources &amp; Reference - Games &amp; Si...</td>\n",
       "    </tr>\n",
       "    <tr>\n",
       "      <th>3</th>\n",
       "      <td>92993</td>\n",
       "      <td>http://www.aleks.com/</td>\n",
       "      <td>ALEKS</td>\n",
       "      <td>McGraw-Hill PreK-12</td>\n",
       "      <td>PreK-12; Higher Ed</td>\n",
       "      <td>LC - Digital Learning Platforms</td>\n",
       "    </tr>\n",
       "    <tr>\n",
       "      <th>4</th>\n",
       "      <td>73104</td>\n",
       "      <td>https://www.achieve3000.com/</td>\n",
       "      <td>Achieve3000</td>\n",
       "      <td>Achieve3000</td>\n",
       "      <td>PreK-12</td>\n",
       "      <td>LC - Digital Learning Platforms</td>\n",
       "    </tr>\n",
       "  </tbody>\n",
       "</table>\n",
       "</div>"
      ],
      "text/plain": [
       "   LP ID                           URL  Product Name  Provider/Company Name  \\\n",
       "0  13117    https://www.splashmath.com   SplashLearn          StudyPad Inc.   \n",
       "1  66933          https://abcmouse.com  ABCmouse.com  Age of Learning, Inc    \n",
       "2  50479         https://www.abcya.com        ABCya!         ABCya.com, LLC   \n",
       "3  92993         http://www.aleks.com/         ALEKS    McGraw-Hill PreK-12   \n",
       "4  73104  https://www.achieve3000.com/   Achieve3000            Achieve3000   \n",
       "\n",
       "            Sector(s)                         Primary Essential Function  \n",
       "0             PreK-12                    LC - Digital Learning Platforms  \n",
       "1             PreK-12                    LC - Digital Learning Platforms  \n",
       "2             PreK-12  LC - Sites, Resources & Reference - Games & Si...  \n",
       "3  PreK-12; Higher Ed                    LC - Digital Learning Platforms  \n",
       "4             PreK-12                    LC - Digital Learning Platforms  "
      ]
     },
     "execution_count": 14,
     "metadata": {},
     "output_type": "execute_result"
    }
   ],
   "source": [
    "products_info.head()"
   ]
  },
  {
   "cell_type": "code",
   "execution_count": 16,
   "metadata": {},
   "outputs": [
    {
     "data": {
      "text/plain": [
       "['1000.csv',\n",
       " '1039.csv',\n",
       " '1044.csv',\n",
       " '1052.csv',\n",
       " '1131.csv',\n",
       " '1142.csv',\n",
       " '1179.csv',\n",
       " '1204.csv',\n",
       " '1270.csv',\n",
       " '1324.csv']"
      ]
     },
     "execution_count": 16,
     "metadata": {},
     "output_type": "execute_result"
    }
   ],
   "source": [
    "# engagement_data 폴더의 파일 확인\n",
    "list1 = os.listdir(\"../../data/learnplatform-covid19-impact/engagement_data\")\n",
    "list1[0:10]"
   ]
  },
  {
   "cell_type": "markdown",
   "metadata": {},
   "source": [
    "* 폴더 안의 파일명은 [district_id].csv이 됩니다."
   ]
  },
  {
   "cell_type": "code",
   "execution_count": 17,
   "metadata": {},
   "outputs": [
    {
     "data": {
      "text/html": [
       "<div>\n",
       "<style scoped>\n",
       "    .dataframe tbody tr th:only-of-type {\n",
       "        vertical-align: middle;\n",
       "    }\n",
       "\n",
       "    .dataframe tbody tr th {\n",
       "        vertical-align: top;\n",
       "    }\n",
       "\n",
       "    .dataframe thead th {\n",
       "        text-align: right;\n",
       "    }\n",
       "</style>\n",
       "<table border=\"1\" class=\"dataframe\">\n",
       "  <thead>\n",
       "    <tr style=\"text-align: right;\">\n",
       "      <th></th>\n",
       "      <th>time</th>\n",
       "      <th>lp_id</th>\n",
       "      <th>pct_access</th>\n",
       "      <th>engagement_index</th>\n",
       "    </tr>\n",
       "  </thead>\n",
       "  <tbody>\n",
       "    <tr>\n",
       "      <th>0</th>\n",
       "      <td>2020-01-01</td>\n",
       "      <td>93690.0</td>\n",
       "      <td>0.00</td>\n",
       "      <td>NaN</td>\n",
       "    </tr>\n",
       "    <tr>\n",
       "      <th>1</th>\n",
       "      <td>2020-01-01</td>\n",
       "      <td>17941.0</td>\n",
       "      <td>0.03</td>\n",
       "      <td>0.90</td>\n",
       "    </tr>\n",
       "    <tr>\n",
       "      <th>2</th>\n",
       "      <td>2020-01-01</td>\n",
       "      <td>65358.0</td>\n",
       "      <td>0.03</td>\n",
       "      <td>1.20</td>\n",
       "    </tr>\n",
       "    <tr>\n",
       "      <th>3</th>\n",
       "      <td>2020-01-01</td>\n",
       "      <td>98265.0</td>\n",
       "      <td>0.57</td>\n",
       "      <td>37.79</td>\n",
       "    </tr>\n",
       "    <tr>\n",
       "      <th>4</th>\n",
       "      <td>2020-01-01</td>\n",
       "      <td>59257.0</td>\n",
       "      <td>0.00</td>\n",
       "      <td>NaN</td>\n",
       "    </tr>\n",
       "  </tbody>\n",
       "</table>\n",
       "</div>"
      ],
      "text/plain": [
       "         time    lp_id  pct_access  engagement_index\n",
       "0  2020-01-01  93690.0        0.00               NaN\n",
       "1  2020-01-01  17941.0        0.03              0.90\n",
       "2  2020-01-01  65358.0        0.03              1.20\n",
       "3  2020-01-01  98265.0        0.57             37.79\n",
       "4  2020-01-01  59257.0        0.00               NaN"
      ]
     },
     "execution_count": 17,
     "metadata": {},
     "output_type": "execute_result"
    }
   ],
   "source": [
    "dis_info_1000 = pd.read_csv(\"../../data/learnplatform-covid19-impact/engagement_data/1000.csv\")\n",
    "dis_info_1000.head()"
   ]
  },
  {
   "cell_type": "markdown",
   "metadata": {},
   "source": [
    "### 위의 파일들은 district_id와 lp_id로 결합이 가능하다."
   ]
  },
  {
   "cell_type": "markdown",
   "metadata": {},
   "source": [
    "### 02 데이터 전처리"
   ]
  },
  {
   "cell_type": "markdown",
   "metadata": {},
   "source": [
    "* 모든 분석 대회에서 매우 중요한 단계\n",
    "* 데이터 전처리를 시작하기에 앞서, 유지 및 수정하려는 데이터와 분석과 관련이 없는 데이터 생각해 보기"
   ]
  },
  {
   "cell_type": "markdown",
   "metadata": {},
   "source": [
    "### 데이터 전처리 순서\n",
    "  * districts_info.csv : NaN states의 57개 학군 삭제 \n",
    "  * products_info.csv : Sector(s)의 One-Hot Encode(원핫 인코딩)수행\n",
    "  * products_info.csv : 'Primary Essential Function' 컬럼을 기본 및 하위 범주로 분할"
   ]
  },
  {
   "cell_type": "markdown",
   "metadata": {},
   "source": [
    "<font size=3 style=\"color:#FF5722\">Dropping Districts with NaN States</font>"
   ]
  },
  {
   "cell_type": "code",
   "execution_count": 18,
   "metadata": {},
   "outputs": [
    {
     "name": "stdout",
     "output_type": "stream",
     "text": [
      "(233, 7)\n",
      "(176, 7)\n"
     ]
    }
   ],
   "source": [
    "print(districts_info.shape)\n",
    "districts_info = districts_info[districts_info.state.notna()].reset_index(drop=True)\n",
    "print(districts_info.shape)"
   ]
  },
  {
   "cell_type": "markdown",
   "metadata": {},
   "source": [
    "<font size=3 style=\"color:#4cb28d\">One-Hot Encoding the Product Sectors</font>"
   ]
  },
  {
   "cell_type": "code",
   "execution_count": null,
   "metadata": {},
   "outputs": [],
   "source": [
    "temp_sectors = products_info['Sector(s)'].str.get_dummies(sep=\"; \")\n",
    "temp_sectors.columns = [f\"sector_{re.sub(' ', '', c)}\" for c in temp_sectors.columns]\n",
    "products_info = products_info.join(temp_sectors)\n",
    "products_info.drop(\"Sector(s)\", axis=1, inplace=True)\n",
    "\n",
    "del temp_sectors"
   ]
  }
 ],
 "metadata": {
  "kernelspec": {
   "display_name": "Python 3",
   "language": "python",
   "name": "python3"
  },
  "language_info": {
   "codemirror_mode": {
    "name": "ipython",
    "version": 3
   },
   "file_extension": ".py",
   "mimetype": "text/x-python",
   "name": "python",
   "nbconvert_exporter": "python",
   "pygments_lexer": "ipython3",
   "version": "3.8.5"
  }
 },
 "nbformat": 4,
 "nbformat_minor": 4
}
